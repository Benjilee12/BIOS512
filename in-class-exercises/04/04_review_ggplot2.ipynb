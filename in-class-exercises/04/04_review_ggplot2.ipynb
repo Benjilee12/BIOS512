{
 "cells": [
  {
   "cell_type": "code",
   "execution_count": null,
   "metadata": {},
   "outputs": [],
   "source": [
    "# Load the libraries and set the resolution for your Notebook by \"uncommenting\" and running this cell\n",
    "\n",
    "# library(\"tidyverse\")\n",
    "# library(\"palmerpenguins\")\n",
    "# options(repr.plot.res = 300) "
   ]
  },
  {
   "cell_type": "code",
   "execution_count": null,
   "metadata": {},
   "outputs": [],
   "source": [
    "# Run this cell.\n",
    "# What are the columns in the penguins dataset?\n",
    "\n",
    "penguins %>% head"
   ]
  },
  {
   "cell_type": "markdown",
   "metadata": {},
   "source": [
    "Let's make this figure 👇"
   ]
  },
  {
   "cell_type": "markdown",
   "metadata": {},
   "source": [
    "<img src=\"penguin_plot.png\" style=\"width: 650px\" />"
   ]
  },
  {
   "cell_type": "markdown",
   "metadata": {},
   "source": [
    "- What column in the `penguins` dataset is represented on each axis?\n",
    "- what column is mapped the color property of each chart?"
   ]
  },
  {
   "cell_type": "markdown",
   "metadata": {},
   "source": [
    "**Using your answers above, fill in this code to re-create the above chart.**"
   ]
  },
  {
   "cell_type": "code",
   "execution_count": null,
   "metadata": {},
   "outputs": [],
   "source": [
    "options(repr.plot.width=5, repr.plot.height=3)\n",
    "\n",
    "# add the dataset and column names to the code below \n",
    "p = ggplot(, aes(x = , y = , color = ))\n",
    "\n",
    "# add the correct geom below\n",
    "p = p + geom_()\n",
    "\n",
    "# run the cell? Did it work?\n",
    "p"
   ]
  },
  {
   "cell_type": "markdown",
   "metadata": {},
   "source": [
    "**What happens if you encode \"sex\" with point color instead of \"species?\"**"
   ]
  },
  {
   "cell_type": "code",
   "execution_count": null,
   "metadata": {},
   "outputs": [],
   "source": [
    "options(repr.plot.width=5, repr.plot.height=3)\n",
    "\n",
    "# add your code below\n",
    "\n"
   ]
  }
 ],
 "metadata": {
  "kernelspec": {
   "display_name": "R",
   "language": "R",
   "name": "ir"
  },
  "language_info": {
   "codemirror_mode": "r",
   "file_extension": ".r",
   "mimetype": "text/x-r-source",
   "name": "R",
   "pygments_lexer": "r",
   "version": "4.0.0"
  }
 },
 "nbformat": 4,
 "nbformat_minor": 4
}
