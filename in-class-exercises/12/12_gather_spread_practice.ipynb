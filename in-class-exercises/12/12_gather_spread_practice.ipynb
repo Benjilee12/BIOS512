{
 "cells": [
  {
   "cell_type": "markdown",
   "metadata": {},
   "source": [
    "Using the following data,"
   ]
  },
  {
   "cell_type": "code",
   "execution_count": 1,
   "metadata": {},
   "outputs": [
    {
     "name": "stderr",
     "output_type": "stream",
     "text": [
      "── \u001b[1mAttaching packages\u001b[22m ─────────────────────────────────────── tidyverse 1.2.1 ──\n",
      "\n",
      "\u001b[32m✔\u001b[39m \u001b[34mggplot2\u001b[39m 3.2.0     \u001b[32m✔\u001b[39m \u001b[34mpurrr  \u001b[39m 0.3.2\n",
      "\u001b[32m✔\u001b[39m \u001b[34mtibble \u001b[39m 2.1.3     \u001b[32m✔\u001b[39m \u001b[34mdplyr  \u001b[39m 0.8.3\n",
      "\u001b[32m✔\u001b[39m \u001b[34mtidyr  \u001b[39m 0.8.3     \u001b[32m✔\u001b[39m \u001b[34mstringr\u001b[39m 1.4.0\n",
      "\u001b[32m✔\u001b[39m \u001b[34mreadr  \u001b[39m 1.3.1     \u001b[32m✔\u001b[39m \u001b[34mforcats\u001b[39m 0.4.0\n",
      "\n",
      "── \u001b[1mConflicts\u001b[22m ────────────────────────────────────────── tidyverse_conflicts() ──\n",
      "\u001b[31m✖\u001b[39m \u001b[34mdplyr\u001b[39m::\u001b[32mfilter()\u001b[39m masks \u001b[34mstats\u001b[39m::filter()\n",
      "\u001b[31m✖\u001b[39m \u001b[34mdplyr\u001b[39m::\u001b[32mlag()\u001b[39m    masks \u001b[34mstats\u001b[39m::lag()\n",
      "\n"
     ]
    },
    {
     "name": "stdout",
     "output_type": "stream",
     "text": [
      "\u001b[38;5;246m# A tibble: 1,000 x 4\u001b[39m\n",
      "   time            X      Y      Z\n",
      "   \u001b[3m\u001b[38;5;246m<date>\u001b[39m\u001b[23m      \u001b[3m\u001b[38;5;246m<dbl>\u001b[39m\u001b[23m  \u001b[3m\u001b[38;5;246m<dbl>\u001b[39m\u001b[23m  \u001b[3m\u001b[38;5;246m<dbl>\u001b[39m\u001b[23m\n",
      "\u001b[38;5;250m 1\u001b[39m 2009-01-01  1.40  -\u001b[31m0\u001b[39m\u001b[31m.\u001b[39m\u001b[31m217\u001b[39m  5.38 \n",
      "\u001b[38;5;250m 2\u001b[39m 2009-01-02  2.10  -\u001b[31m4\u001b[39m\u001b[31m.\u001b[39m\u001b[31m54\u001b[39m   6.93 \n",
      "\u001b[38;5;250m 3\u001b[39m 2009-01-03 -\u001b[31m0\u001b[39m\u001b[31m.\u001b[39m\u001b[31m543\u001b[39m  4.64   0.502\n",
      "\u001b[38;5;250m 4\u001b[39m 2009-01-04 -\u001b[31m0\u001b[39m\u001b[31m.\u001b[39m\u001b[31m750\u001b[39m  2.15   0.658\n",
      "\u001b[38;5;250m 5\u001b[39m 2009-01-05  0.343 -\u001b[31m2\u001b[39m\u001b[31m.\u001b[39m\u001b[31m21\u001b[39m   2.72 \n",
      "\u001b[38;5;250m 6\u001b[39m 2009-01-06  1.87  -\u001b[31m1\u001b[39m\u001b[31m.\u001b[39m\u001b[31m70\u001b[39m  -\u001b[31m1\u001b[39m\u001b[31m.\u001b[39m\u001b[31m29\u001b[39m \n",
      "\u001b[38;5;250m 7\u001b[39m 2009-01-07  1.43  -\u001b[31m3\u001b[39m\u001b[31m.\u001b[39m\u001b[31m33\u001b[39m  -\u001b[31m3\u001b[39m\u001b[31m.\u001b[39m\u001b[31m74\u001b[39m \n",
      "\u001b[38;5;250m 8\u001b[39m 2009-01-08 -\u001b[31m0\u001b[39m\u001b[31m.\u001b[39m\u001b[31m313\u001b[39m -\u001b[31m0\u001b[39m\u001b[31m.\u001b[39m\u001b[31m302\u001b[39m -\u001b[31m7\u001b[39m\u001b[31m.\u001b[39m\u001b[31m26\u001b[39m \n",
      "\u001b[38;5;250m 9\u001b[39m 2009-01-09 -\u001b[31m0\u001b[39m\u001b[31m.\u001b[39m\u001b[31m113\u001b[39m -\u001b[31m0\u001b[39m\u001b[31m.\u001b[39m\u001b[31m510\u001b[39m  7.12 \n",
      "\u001b[38;5;250m10\u001b[39m 2009-01-10 -\u001b[31m0\u001b[39m\u001b[31m.\u001b[39m\u001b[31m873\u001b[39m -\u001b[31m0\u001b[39m\u001b[31m.\u001b[39m\u001b[31m390\u001b[39m  0.883\n",
      "\u001b[38;5;246m# … with 990 more rows\u001b[39m\n"
     ]
    }
   ],
   "source": [
    "library('tidyverse')\n",
    "\n",
    "# From http://stackoverflow.com/questions/1181060\n",
    "stocks = tibble(\n",
    "  time = as.Date('2009-01-01') + 0:999,\n",
    "  X = rnorm(1000, 0.35, 1),\n",
    "  Y = rnorm(1000, 0, 2),\n",
    "  Z = rnorm(1000, 2, 4)\n",
    ")\n",
    "\n",
    "stocks %>% print"
   ]
  },
  {
   "cell_type": "markdown",
   "metadata": {},
   "source": [
    "Re-create the following figure:\n",
    "\n",
    "(*Hints: use* `gather` *to re-shape the data.*)"
   ]
  },
  {
   "cell_type": "markdown",
   "metadata": {},
   "source": [
    "<img src=\"figs/stock_gather.png\" style=\"width: 500px;\" />"
   ]
  },
  {
   "cell_type": "code",
   "execution_count": null,
   "metadata": {},
   "outputs": [],
   "source": []
  }
 ],
 "metadata": {
  "kernelspec": {
   "display_name": "R",
   "language": "R",
   "name": "ir"
  },
  "language_info": {
   "codemirror_mode": "r",
   "file_extension": ".r",
   "mimetype": "text/x-r-source",
   "name": "R",
   "pygments_lexer": "r",
   "version": "3.6.0"
  }
 },
 "nbformat": 4,
 "nbformat_minor": 4
}
