{
 "cells": [
  {
   "cell_type": "code",
   "execution_count": 1,
   "metadata": {},
   "outputs": [
    {
     "name": "stderr",
     "output_type": "stream",
     "text": [
      "── \u001b[1mAttaching packages\u001b[22m ─────────────────────────────────────── tidyverse 1.2.1 ──\n",
      "\u001b[32m✔\u001b[39m \u001b[34mggplot2\u001b[39m 3.2.1     \u001b[32m✔\u001b[39m \u001b[34mpurrr  \u001b[39m 0.3.2\n",
      "\u001b[32m✔\u001b[39m \u001b[34mtibble \u001b[39m 2.1.3     \u001b[32m✔\u001b[39m \u001b[34mdplyr  \u001b[39m 0.8.3\n",
      "\u001b[32m✔\u001b[39m \u001b[34mtidyr  \u001b[39m 0.8.3     \u001b[32m✔\u001b[39m \u001b[34mstringr\u001b[39m 1.4.0\n",
      "\u001b[32m✔\u001b[39m \u001b[34mreadr  \u001b[39m 1.3.1     \u001b[32m✔\u001b[39m \u001b[34mforcats\u001b[39m 0.4.0\n",
      "── \u001b[1mConflicts\u001b[22m ────────────────────────────────────────── tidyverse_conflicts() ──\n",
      "\u001b[31m✖\u001b[39m \u001b[34mdplyr\u001b[39m::\u001b[32mfilter()\u001b[39m masks \u001b[34mstats\u001b[39m::filter()\n",
      "\u001b[31m✖\u001b[39m \u001b[34mdplyr\u001b[39m::\u001b[32mlag()\u001b[39m    masks \u001b[34mstats\u001b[39m::lag()\n"
     ]
    }
   ],
   "source": [
    "library('tidyverse')"
   ]
  },
  {
   "cell_type": "code",
   "execution_count": 2,
   "metadata": {},
   "outputs": [],
   "source": [
    "library('patchwork')"
   ]
  },
  {
   "cell_type": "code",
   "execution_count": 4,
   "metadata": {},
   "outputs": [
    {
     "name": "stderr",
     "output_type": "stream",
     "text": [
      "Warning message:\n",
      "“Missing column names filled in: 'X1' [1]”Parsed with column specification:\n",
      "cols(\n",
      "  X1 = \u001b[32mcol_double()\u001b[39m,\n",
      "  name = \u001b[31mcol_character()\u001b[39m,\n",
      "  total = \u001b[32mcol_double()\u001b[39m,\n",
      "  male_share = \u001b[32mcol_double()\u001b[39m,\n",
      "  female_share = \u001b[32mcol_double()\u001b[39m,\n",
      "  gap = \u001b[32mcol_double()\u001b[39m\n",
      ")\n"
     ]
    }
   ],
   "source": [
    "df_names = read_csv('unisex_names_table.txt')"
   ]
  },
  {
   "cell_type": "code",
   "execution_count": 5,
   "metadata": {},
   "outputs": [
    {
     "name": "stdout",
     "output_type": "stream",
     "text": [
      "\u001b[38;5;246m# A tibble: 919 x 6\u001b[39m\n",
      "      X1 name      total male_share female_share    gap\n",
      "   \u001b[3m\u001b[38;5;246m<dbl>\u001b[39m\u001b[23m \u001b[3m\u001b[38;5;246m<chr>\u001b[39m\u001b[23m     \u001b[3m\u001b[38;5;246m<dbl>\u001b[39m\u001b[23m      \u001b[3m\u001b[38;5;246m<dbl>\u001b[39m\u001b[23m        \u001b[3m\u001b[38;5;246m<dbl>\u001b[39m\u001b[23m  \u001b[3m\u001b[38;5;246m<dbl>\u001b[39m\u001b[23m\n",
      "\u001b[38;5;250m 1\u001b[39m     1 Casey   \u001b[4m1\u001b[24m\u001b[4m7\u001b[24m\u001b[4m6\u001b[24m544.      0.584        0.416 0.169 \n",
      "\u001b[38;5;250m 2\u001b[39m     2 Riley   \u001b[4m1\u001b[24m\u001b[4m5\u001b[24m\u001b[4m4\u001b[24m861.      0.508        0.492 0.015\u001b[4m3\u001b[24m\n",
      "\u001b[38;5;250m 3\u001b[39m     3 Jessie  \u001b[4m1\u001b[24m\u001b[4m3\u001b[24m\u001b[4m6\u001b[24m382.      0.478        0.522 0.044\u001b[4m3\u001b[24m\n",
      "\u001b[38;5;250m 4\u001b[39m     4 Jackie  \u001b[4m1\u001b[24m\u001b[4m3\u001b[24m\u001b[4m2\u001b[24m929.      0.421        0.579 0.158 \n",
      "\u001b[38;5;250m 5\u001b[39m     5 Avery   \u001b[4m1\u001b[24m\u001b[4m2\u001b[24m\u001b[4m1\u001b[24m797.      0.335        0.665 0.330 \n",
      "\u001b[38;5;250m 6\u001b[39m     6 Jaime   \u001b[4m1\u001b[24m\u001b[4m0\u001b[24m\u001b[4m9\u001b[24m870.      0.562        0.438 0.124 \n",
      "\u001b[38;5;250m 7\u001b[39m     7 Peyton   \u001b[4m9\u001b[24m\u001b[4m4\u001b[24m896.      0.434        0.566 0.133 \n",
      "\u001b[38;5;250m 8\u001b[39m     8 Kerry    \u001b[4m8\u001b[24m\u001b[4m8\u001b[24m964.      0.484        0.516 0.032\u001b[4m1\u001b[24m\n",
      "\u001b[38;5;250m 9\u001b[39m     9 Jody     \u001b[4m8\u001b[24m\u001b[4m0\u001b[24m401.      0.352        0.648 0.296 \n",
      "\u001b[38;5;250m10\u001b[39m    10 Kendall  \u001b[4m7\u001b[24m\u001b[4m9\u001b[24m211.      0.372        0.628 0.255 \n",
      "\u001b[38;5;246m# … with 909 more rows\u001b[39m\n"
     ]
    }
   ],
   "source": [
    "df_names %>% print"
   ]
  },
  {
   "cell_type": "code",
   "execution_count": null,
   "metadata": {},
   "outputs": [],
   "source": []
  }
 ],
 "metadata": {
  "kernelspec": {
   "display_name": "R",
   "language": "R",
   "name": "ir"
  },
  "language_info": {
   "codemirror_mode": "r",
   "file_extension": ".r",
   "mimetype": "text/x-r-source",
   "name": "R",
   "pygments_lexer": "r",
   "version": "3.6.1"
  }
 },
 "nbformat": 4,
 "nbformat_minor": 4
}
