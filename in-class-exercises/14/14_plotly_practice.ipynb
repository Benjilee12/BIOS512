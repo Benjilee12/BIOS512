{
 "cells": [
  {
   "cell_type": "markdown",
   "metadata": {},
   "source": [
    "1. Plot the marathon dataset with `year` on the x-axis and `race.time` on the y-axis. Color points by the `MF` column.\n",
    "1. Convert your chart to an interactive figure. Use the hover/tooltip interactivity to find the name for the female racer who won in 1990. (_Hint: you will have to add a dummy mapping_)\n",
    "1. Make an animation that shows `race.time` changing over the years."
   ]
  }
 ],
 "metadata": {
  "kernelspec": {
   "display_name": "R",
   "language": "R",
   "name": "ir"
  },
  "language_info": {
   "codemirror_mode": "r",
   "file_extension": ".r",
   "mimetype": "text/x-r-source",
   "name": "R",
   "pygments_lexer": "r",
   "version": "3.6.0"
  }
 },
 "nbformat": 4,
 "nbformat_minor": 2
}
