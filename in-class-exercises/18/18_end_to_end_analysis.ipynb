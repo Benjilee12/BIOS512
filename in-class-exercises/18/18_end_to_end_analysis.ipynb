{
 "cells": [
  {
   "cell_type": "markdown",
   "metadata": {},
   "source": [
    "1. Create a `Dockerfile` using the jupyter lab text editor\n",
    "\n",
    "```Bash\n",
    "docker run -it --rm -w ${PWD} -v ${PWD}:${PWD} -p 8888:8888 jupyter/r-notebook jupyter lab\n",
    "```"
   ]
  },
  {
   "cell_type": "markdown",
   "metadata": {},
   "source": [
    "2. With the first line in your `Dockerfile` inherit from the [r-notebook](https://hub.docker.com/r/jupyter/r-notebook) Docker image provided by the Jupyter team.\n",
    "  - E.g. `FROM jupyter/r-notebook`"
   ]
  },
  {
   "cell_type": "markdown",
   "metadata": {},
   "source": [
    "3. In the second line of your `Dockerfile` use `conda` and a `RUN` directive to install the latest versino of `tidyr`.\n",
    "  - E.g. `RUN conda isntall -c conda-forge r-tidyr==1.0.0`"
   ]
  },
  {
   "cell_type": "markdown",
   "metadata": {},
   "source": [
    "4. Close your Jupyter session."
   ]
  },
  {
   "cell_type": "markdown",
   "metadata": {},
   "source": [
    "5. Build an image using the `Dockerfile` you just created.\n",
    "\n",
    "```Bash\n",
    "docker build -t <some image name> .\n",
    "```"
   ]
  },
  {
   "cell_type": "markdown",
   "metadata": {},
   "source": [
    "6. Run your image.\n",
    "\n",
    "```Bash\n",
    "docker run -w ${PWD} -v ${PWD}:${PWD} -p 8888:8888 <image name>\n",
    "```\n",
    "\n",
    "(or if you prefer jupyter lab)\n",
    "\n",
    "```Bash\n",
    "docker run -w ${PWD} -v ${PWD}:${PWD} -p 8888:8888 <image name> jupyter lab\n",
    "```"
   ]
  },
  {
   "cell_type": "markdown",
   "metadata": {},
   "source": [
    "7. Read this `CSV` into a `tibble` in an R notebook:\n",
    "\n",
    "https://github.com/fivethirtyeight/data/blob/master/unisex-names/unisex_names_table.csv"
   ]
  },
  {
   "cell_type": "code",
   "execution_count": null,
   "metadata": {},
   "outputs": [],
   "source": []
  },
  {
   "cell_type": "markdown",
   "metadata": {},
   "source": [
    "8. Pivot the data so `male_share` and `female_share` are in the same column."
   ]
  },
  {
   "cell_type": "code",
   "execution_count": null,
   "metadata": {},
   "outputs": [],
   "source": []
  },
  {
   "cell_type": "markdown",
   "metadata": {},
   "source": [
    "9. Turn the `name` column into a factor where the levels are sorted by the `total` column."
   ]
  },
  {
   "cell_type": "code",
   "execution_count": null,
   "metadata": {},
   "outputs": [],
   "source": []
  },
  {
   "cell_type": "markdown",
   "metadata": {},
   "source": [
    "10. Create a similar stacked bar chart from the data to this. FiveThiryEight visualization:\n",
    "\n",
    "<img src=\"https://fivethirtyeight.com/wp-content/uploads/2015/06/flowers-datalab-unisexnames-1.png\" />"
   ]
  },
  {
   "cell_type": "code",
   "execution_count": null,
   "metadata": {},
   "outputs": [],
   "source": []
  }
 ],
 "metadata": {
  "kernelspec": {
   "display_name": "R",
   "language": "R",
   "name": "ir"
  },
  "language_info": {
   "codemirror_mode": "r",
   "file_extension": ".r",
   "mimetype": "text/x-r-source",
   "name": "R",
   "pygments_lexer": "r",
   "version": "3.6.1"
  }
 },
 "nbformat": 4,
 "nbformat_minor": 4
}
