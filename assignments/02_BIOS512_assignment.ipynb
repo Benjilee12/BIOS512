{
 "cells": [
  {
   "cell_type": "code",
   "execution_count": 80,
   "metadata": {},
   "outputs": [],
   "source": [
    "library('tidyverse')\n",
    "library('gapminder')\n",
    "library('ggrepel')\n",
    "library('patchwork')"
   ]
  },
  {
   "cell_type": "markdown",
   "metadata": {},
   "source": [
    "Recreate this figure as best you can using the techniques we have learned:"
   ]
  },
  {
   "cell_type": "markdown",
   "metadata": {},
   "source": [
    "![](02_example.png)"
   ]
  },
  {
   "cell_type": "markdown",
   "metadata": {},
   "source": [
    "Work with the gapminder dataset. The following will give you four tables.\n",
    "1. A table for 1952 data.\n",
    "1. A table for 2002 data.\n",
    "1. A table for just Kuwait in 1952. \n",
    "1. A table for just Kuwait in 2002. "
   ]
  },
  {
   "cell_type": "code",
   "execution_count": 191,
   "metadata": {},
   "outputs": [],
   "source": [
    "df.1952 = gapminder %>% filter(year == 1952)\n",
    "df.2002 = gapminder %>% filter(year == 2002)\n",
    "df.1952.kuwait = df.1952 %>% filter(country == 'Kuwait') \n",
    "df.2002.kuwait = df.2002 %>% filter(country == 'Kuwait') "
   ]
  },
  {
   "cell_type": "markdown",
   "metadata": {},
   "source": [
    "## Hints!"
   ]
  },
  {
   "cell_type": "markdown",
   "metadata": {},
   "source": [
    "These snippets will help you to get the legends and scales as they're set in the example.\n",
    "\n",
    "- This is how the size scale is set:\n",
    "\n",
    "```R\n",
    "p = p + scale_size(breaks = seq(1e+5, 1.5e+9, 3e+8), \n",
    "                   limits = c(1e+4, 1.5e+9),\n",
    "                   range = c(1, 10), labels = scales::comma)\n",
    "```  "
   ]
  },
  {
   "cell_type": "markdown",
   "metadata": {},
   "source": [
    "- This is how the `y-axis` is fixed for each plot:\n",
    "\n",
    "```R\n",
    "p = p + ylim(c(27, 82))\n",
    "```"
   ]
  },
  {
   "cell_type": "markdown",
   "metadata": {},
   "source": [
    "- This will set the `x-axis` to a log-scale:\n",
    "\n",
    "```R\n",
    "p = p + scale_x_log10()\n",
    "```"
   ]
  },
  {
   "cell_type": "markdown",
   "metadata": {},
   "source": [
    "- The `annotate` function is useful for adding text to a figure that's not mapped to data. [annotate documentation](https://ggplot2.tidyverse.org/reference/annotate.html). "
   ]
  },
  {
   "cell_type": "markdown",
   "metadata": {},
   "source": [
    "- Don't forget about third-party packages like `ggrepel` and `patchwork`!"
   ]
  }
 ],
 "metadata": {
  "kernelspec": {
   "display_name": "R",
   "language": "R",
   "name": "ir"
  },
  "language_info": {
   "codemirror_mode": "r",
   "file_extension": ".r",
   "mimetype": "text/x-r-source",
   "name": "R",
   "pygments_lexer": "r",
   "version": "3.6.0"
  }
 },
 "nbformat": 4,
 "nbformat_minor": 4
}
