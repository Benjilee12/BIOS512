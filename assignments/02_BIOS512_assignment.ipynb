{
 "cells": [
  {
   "cell_type": "markdown",
   "metadata": {},
   "source": [
    "Import the tidyverse and configure your notebook for nicely sized output."
   ]
  },
  {
   "cell_type": "code",
   "execution_count": null,
   "metadata": {},
   "outputs": [],
   "source": [
    "# library(\"tidyverse\")\n",
    "# options(repr.plot.width = 3, repr.plot.height = 4, repr.plot.res = 300)"
   ]
  },
  {
   "cell_type": "markdown",
   "metadata": {},
   "source": [
    "The data for this assignment is lines of dialogue from [Avatar: The Last Airbender](https://avatar.fandom.com/wiki/Avatar:_The_Last_Airbender). The data is provided in raw form [on GitHub](https://github.com/rfordatascience/tidytuesday/blob/master/data/2020/2020-08-11/readme.md)."
   ]
  },
  {
   "cell_type": "markdown",
   "metadata": {},
   "source": [
    "The following cell provides twofollowing data sets:\n",
    "1. `book1`: each row is a line of dialogue in Book One.\n",
    "1. `book2`: each row represents the number of times a character speaks in Book Two.\n",
    "\n",
    "Uncomment and run this cell below."
   ]
  },
  {
   "cell_type": "code",
   "execution_count": null,
   "metadata": {},
   "outputs": [],
   "source": [
    "# avatar_raw <- suppressMessages(\n",
    "#     read_csv(\n",
    "#         \"https://raw.githubusercontent.com/rfordatascience/tidytuesday/master/data/2020/2020-08-11/avatar.csv\"\n",
    "#     )\n",
    "# )\n",
    "\n",
    "# book1 = avatar_raw %>% \n",
    "#     filter(book_num == 1, character != \"Scene Description\", !is.na(character_words)) %>%\n",
    "#     select(book_num, character, character_words) %>%\n",
    "#     mutate(character = fct_lump_n(character, 10)) %>%\n",
    "#     mutate(character = fct_rev(fct_infreq(character)))\n",
    "\n",
    "# book2 = avatar_raw %>% \n",
    "#     filter(book_num == 2, character != \"Scene Description\", !is.na(character_words)) %>%\n",
    "#     select(book_num, character) %>%\n",
    "#     mutate(character = fct_lump_n(character, 10)) %>%\n",
    "#     count(character) %>%\n",
    "#     arrange(desc(n)) %>%\n",
    "#     mutate(character = fct_rev(fct_inorder(character)))"
   ]
  },
  {
   "cell_type": "markdown",
   "metadata": {},
   "source": [
    "Preview the `book1` data set using the `head` function."
   ]
  },
  {
   "cell_type": "code",
   "execution_count": null,
   "metadata": {},
   "outputs": [],
   "source": []
  },
  {
   "cell_type": "markdown",
   "metadata": {},
   "source": [
    "**Using `geom_bar` plot the number of times each character speaks in Book One**"
   ]
  },
  {
   "cell_type": "code",
   "execution_count": null,
   "metadata": {},
   "outputs": [],
   "source": []
  },
  {
   "cell_type": "markdown",
   "metadata": {},
   "source": [
    "Preview the `book2` data set using the `head` function."
   ]
  },
  {
   "cell_type": "code",
   "execution_count": null,
   "metadata": {},
   "outputs": [],
   "source": []
  },
  {
   "cell_type": "markdown",
   "metadata": {},
   "source": [
    "**Using `geom_col` plot the number of times each character speaks in Book Two**"
   ]
  },
  {
   "cell_type": "code",
   "execution_count": null,
   "metadata": {},
   "outputs": [],
   "source": []
  }
 ],
 "metadata": {
  "kernelspec": {
   "display_name": "R",
   "language": "R",
   "name": "ir"
  },
  "language_info": {
   "codemirror_mode": "r",
   "file_extension": ".r",
   "mimetype": "text/x-r-source",
   "name": "R",
   "pygments_lexer": "r",
   "version": "4.0.0"
  }
 },
 "nbformat": 4,
 "nbformat_minor": 4
}
