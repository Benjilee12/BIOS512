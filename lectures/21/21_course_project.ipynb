{
 "cells": [
  {
   "cell_type": "markdown",
   "metadata": {},
   "source": [
    "## Purpose\n",
    "Your course project should reflect the skills you have developed in BIOS512 including (but not limited too):\n",
    "- data visualization\n",
    "  - sorting chart scales meaningfully\n",
    "  - selecting the appropriate `geom`\n",
    "  - encoding data with a number of chart properties (color, axes, size, etc.)\n",
    "  - adding multiple panels/facets\n",
    "  - annotating or otherwise labelling interesting values\n",
    "- data wrangling\n",
    "  - re-shaping data into `tidy` format\n",
    "  - filtering, grouping, extracting, joining, and aggregating raw data into a form suitable for vizualization\n",
    "  - reading data from URLs and files"
   ]
  },
  {
   "cell_type": "markdown",
   "metadata": {},
   "source": [
    "## Specifications\n",
    "\n",
    "1. Find a dataset\n",
    "  - Either download and add your dataset to your GitHub repository, or access it via a URL\n",
    "  - **Transform your data as needed and encode these steps in your Jupyter Notebook** (see below)\n",
    "1. Build a data narrative for your dataset in a Jupyter Notebook\n",
    "  - The narrative should consist of **two or more paragraphs**\n",
    "  - Be concise -- you don't have to exhaustively describe your dataset\n",
    "    - pick a couple features of interest\n",
    "  - Include **two or more vizualizations**\n",
    "    - take care to **sort** your scales (e.g. the axes) meaningfully\n",
    "    - chart titles/labels should be understandable and legible\n",
    "    - annotate special features of interest (if applicable)\n",
    "    - use facets or multiple panels where appropriate"
   ]
  },
  {
   "cell_type": "markdown",
   "metadata": {},
   "source": [
    "## Example data narratives\n",
    "### Note: your narratives _do not have to be as long as the following examples_\n",
    "\n",
    "- https://juliasilge.com/blog/word-associations/\n",
    "- https://juliasilge.com/blog/texas-opioids/\n",
    "- https://vallandingham.me/shaw_bros_analysis.html\n",
    "- http://jakevdp.github.io/blog/2015/10/17/analyzing-pronto-cycleshare-data-with-python-and-pandas/\n",
    "- (something to aspire to...) http://explore-adventure.com/ by [Shirley Wu](https://sxywu.com/)"
   ]
  }
 ],
 "metadata": {
  "kernelspec": {
   "display_name": "R",
   "language": "R",
   "name": "ir"
  },
  "language_info": {
   "codemirror_mode": "r",
   "file_extension": ".r",
   "mimetype": "text/x-r-source",
   "name": "R",
   "pygments_lexer": "r",
   "version": "3.6.1"
  }
 },
 "nbformat": 4,
 "nbformat_minor": 2
}
