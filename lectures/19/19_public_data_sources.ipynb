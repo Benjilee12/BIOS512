{
 "cells": [
  {
   "cell_type": "markdown",
   "metadata": {},
   "source": [
    "FiveThirtyEight GitHub\n",
    "\n",
    "- [https://github.com/fivethirtyeight/data](https://github.com/fivethirtyeight/data)"
   ]
  },
  {
   "cell_type": "markdown",
   "metadata": {},
   "source": [
    "Kaggle open datasets\n",
    "\n",
    "- [https://www.kaggle.com/datasets](https://www.kaggle.com/datasets)"
   ]
  },
  {
   "cell_type": "markdown",
   "metadata": {},
   "source": [
    "Public health\n",
    "\n",
    "- [https://healthdata.gov/](https://healthdata.gov/)\n",
    "- [https://data.hrsa.gov](https://data.hrsa.gov)"
   ]
  },
  {
   "cell_type": "markdown",
   "metadata": {},
   "source": [
    "Google dataset search\n",
    "\n",
    "- [https://toolbox.google.com/datasetsearch](https://toolbox.google.com/datasetsearch)\n",
    "- E.g. \"flu 2019\""
   ]
  },
  {
   "cell_type": "markdown",
   "metadata": {},
   "source": [
    "Reading excel files\n",
    "\n",
    "- [https://readxl.tidyverse.org/](https://readxl.tidyverse.org/)"
   ]
  }
 ],
 "metadata": {
  "kernelspec": {
   "display_name": "R",
   "language": "R",
   "name": "ir"
  },
  "language_info": {
   "codemirror_mode": "r",
   "file_extension": ".r",
   "mimetype": "text/x-r-source",
   "name": "R",
   "pygments_lexer": "r",
   "version": "3.6.1"
  }
 },
 "nbformat": 4,
 "nbformat_minor": 2
}
