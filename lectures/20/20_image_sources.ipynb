{
 "cells": [
  {
   "cell_type": "markdown",
   "metadata": {
    "slideshow": {
     "slide_type": "slide"
    }
   },
   "source": [
    "# Docker images"
   ]
  },
  {
   "cell_type": "markdown",
   "metadata": {
    "slideshow": {
     "slide_type": "slide"
    }
   },
   "source": [
    "Docker image registries\n",
    "- [Dockerhub](https://hub.docker.com)\n",
    "- [Quay](https://quay.io/)\n"
   ]
  },
  {
   "cell_type": "markdown",
   "metadata": {
    "slideshow": {
     "slide_type": "slide"
    }
   },
   "source": [
    "Jupyter dev team\n",
    "\n",
    "- [GitHub](https://github.com/jupyter/docker-stacks)\n",
    "- [Dockerhub](https://hub.docker.com/u/jupyter)"
   ]
  },
  {
   "cell_type": "markdown",
   "metadata": {
    "slideshow": {
     "slide_type": "slide"
    }
   },
   "source": [
    "E.g.\n",
    "\n",
    "```bash\n",
    "docker run -it --rm -w $PWD -v $PWD:$PWD -p 9999:9999 jupyter/r-notebook jupyter lab --port 9999\n",
    "```"
   ]
  },
  {
   "cell_type": "markdown",
   "metadata": {
    "slideshow": {
     "slide_type": "slide"
    }
   },
   "source": [
    "RStudio\n",
    "\n",
    "- [GitHub](https://github.com/rocker-org/rocker-versioned)\n",
    "- [Dockerhub]()"
   ]
  },
  {
   "cell_type": "markdown",
   "metadata": {
    "slideshow": {
     "slide_type": "slide"
    }
   },
   "source": [
    "E.g.\n",
    "\n",
    "```bash\n",
    "docker run -it --rm -w $PWD -v $PWD:$PWD -p 8787:8787 -e DISABLE_AUTH=true rocker/rstudio\n",
    "```"
   ]
  },
  {
   "cell_type": "markdown",
   "metadata": {
    "slideshow": {
     "slide_type": "slide"
    }
   },
   "source": [
    "# Installing additional packages"
   ]
  },
  {
   "cell_type": "markdown",
   "metadata": {
    "slideshow": {
     "slide_type": "slide"
    }
   },
   "source": [
    "Workflow:\n",
    "1. Create `Dockerfile`\n",
    "1. Inherit from existing image (`FROM jupyter/r-notebook`)\n",
    "1. Install with `RUN` commands\n",
    "1. `docker build`\n",
    "1. `docker run`"
   ]
  },
  {
   "cell_type": "markdown",
   "metadata": {
    "slideshow": {
     "slide_type": "slide"
    }
   },
   "source": [
    "## Package repositories"
   ]
  },
  {
   "cell_type": "markdown",
   "metadata": {
    "slideshow": {
     "slide_type": "slide"
    }
   },
   "source": [
    "- [CRAN](https://cran.r-project.org/)\n",
    "- GitHub (with [`devtools`](https://github.com/r-lib/devtools))\n",
    "- [Conda](https://docs.anaconda.com/anaconda/packages/r-language-pkg-docs/)"
   ]
  },
  {
   "cell_type": "markdown",
   "metadata": {
    "slideshow": {
     "slide_type": "slide"
    }
   },
   "source": [
    "CRAN\n",
    "\n",
    "```Dockerfile\n",
    "RUN R -e \"install.packages('ggrepel', repos = c('http://cran.rstudio.com'))\"\n",
    "```"
   ]
  },
  {
   "cell_type": "markdown",
   "metadata": {
    "slideshow": {
     "slide_type": "slide"
    }
   },
   "source": [
    "GitHub\n",
    "```Dockerfile\n",
    "# if devtools not already installed\n",
    "RUN R -e \"install.packages('devtools', repos = c('http://cran.rstudio.com'))\"\n",
    "\n",
    "RUN R -e \"devtools::install_github('slowkow/ggrepel')\"\n",
    "```"
   ]
  },
  {
   "cell_type": "markdown",
   "metadata": {
    "slideshow": {
     "slide_type": "slide"
    }
   },
   "source": [
    "Conda (Note\": *not all images have conda available!*)\n",
    "\n",
    "```Dockerfile\n",
    "RUN conda install -c conda-forge r-ggrepel\n",
    "```"
   ]
  }
 ],
 "metadata": {
  "celltoolbar": "Slideshow",
  "kernelspec": {
   "display_name": "R",
   "language": "R",
   "name": "ir"
  },
  "language_info": {
   "codemirror_mode": "r",
   "file_extension": ".r",
   "mimetype": "text/x-r-source",
   "name": "R",
   "pygments_lexer": "r",
   "version": "3.6.1"
  }
 },
 "nbformat": 4,
 "nbformat_minor": 2
}
