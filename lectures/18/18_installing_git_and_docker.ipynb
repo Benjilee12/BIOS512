{
 "cells": [
  {
   "cell_type": "markdown",
   "metadata": {},
   "source": [
    "# Windows"
   ]
  },
  {
   "cell_type": "markdown",
   "metadata": {},
   "source": [
    "Launch Powershell (if not already available)\n",
    "- `Start`, `All Programs`, `Accessories`, `Windows PowerShell`"
   ]
  },
  {
   "cell_type": "markdown",
   "metadata": {},
   "source": [
    "# macOS"
   ]
  },
  {
   "cell_type": "markdown",
   "metadata": {},
   "source": [
    "Launch a terminal\n",
    "- `Finder`, `Applications`, `Terminal`"
   ]
  },
  {
   "cell_type": "markdown",
   "metadata": {},
   "source": [
    "# Installing Git"
   ]
  },
  {
   "cell_type": "markdown",
   "metadata": {},
   "source": [
    "macOS\n",
    "- https://www.atlassian.com/git/tutorials/install-git\n",
    "\n",
    "Windows\n",
    "- https://www.develves.net/blogs/asd/articles/using-git-with-powershell-on-windows-10/"
   ]
  },
  {
   "cell_type": "markdown",
   "metadata": {},
   "source": [
    "Initialize Git (in your shell)\n",
    "- https://git-scm.com/book/en/v2/Getting-Started-First-Time-Git-Setup\n",
    "```\n",
    "git config --global user.name \"John Doe\"\n",
    "git config --global user.email johndoe@example.com\n",
    "```"
   ]
  },
  {
   "cell_type": "markdown",
   "metadata": {},
   "source": [
    "Clone our first repo! (think of it like downloading)"
   ]
  },
  {
   "cell_type": "markdown",
   "metadata": {},
   "source": [
    "Git versus Git**Hub**"
   ]
  },
  {
   "cell_type": "markdown",
   "metadata": {},
   "source": [
    "# Installing Docker"
   ]
  },
  {
   "cell_type": "markdown",
   "metadata": {},
   "source": [
    "macOS\n",
    "- https://docs.docker.com/docker-for-mac/install/\n",
    "\n",
    "Windows\n",
    "- https://docs.docker.com/docker-for-windows/"
   ]
  },
  {
   "cell_type": "markdown",
   "metadata": {},
   "source": [
    "Test the installation\n",
    "\n",
    "```\n",
    "docker info\n",
    "```"
   ]
  },
  {
   "cell_type": "markdown",
   "metadata": {},
   "source": [
    "```\n",
    "docker run hello-world\n",
    "```"
   ]
  },
  {
   "cell_type": "markdown",
   "metadata": {},
   "source": [
    "# Considerations when running Docker locally"
   ]
  },
  {
   "cell_type": "markdown",
   "metadata": {},
   "source": [
    "- containers are \"contained\"\n",
    "- containers are often run in the background\n",
    "  - `docker ps` and `docker ps -a`\n",
    "  - `docker system prune`"
   ]
  },
  {
   "cell_type": "markdown",
   "metadata": {},
   "source": [
    "Let's run Jupyter!\n",
    "\n",
    "- https://hub.docker.com/u/jupyter/"
   ]
  },
  {
   "cell_type": "markdown",
   "metadata": {},
   "source": [
    "Docker run syntax:\n",
    "\n",
    "```\n",
    "docker run <arguments> <org/image:tag> <command>\n",
    "```"
   ]
  },
  {
   "cell_type": "markdown",
   "metadata": {},
   "source": [
    "- How to access the running server?\n",
    "  - `-p` flags maps host port to container port\n",
    "  - `-v` \"mounts\" host directories inside the container"
   ]
  },
  {
   "cell_type": "markdown",
   "metadata": {},
   "source": [
    "Full command:\n",
    "```\n",
    "docker run -w \"$PWD\" -v \"$PWD:$PWD\" -p 8888:8888 -it --rm jupyter/datascience-notebook\n",
    "```\n",
    "-  `-w $PWD # make my current directory the \"working\" directory in the container`\n",
    "-  `-v $PWD:$PWD # mount my current directory`\n",
    "-  `-p 8888:8888  # map the container port 8888 to the host port 8888`\n",
    "-  `-it # run \"interactively\"`\n",
    "-  `--rm # remove container when I exit`\n",
    "-  `jupyter/datascience-notebook # org and image`\n",
    "```"
   ]
  },
  {
   "cell_type": "markdown",
   "metadata": {},
   "source": [
    "What if I want to use a different port?"
   ]
  },
  {
   "cell_type": "markdown",
   "metadata": {},
   "source": [
    "```\n",
    "docker run -w \"$PWD\" -v \"$PWD:$PWD\" -p 8989:8989 -it --rm jupyter/datascience-notebook jupyter lab --port 8989\n",
    "```"
   ]
  },
  {
   "cell_type": "markdown",
   "metadata": {},
   "source": [
    "Simple project workflow:\n",
    "1. Make a Dockerfile\n",
    "1. Build the \"image\"\n",
    "1. Run\n",
    "1. Git stuff (we'll cover in a later lecture)"
   ]
  },
  {
   "cell_type": "markdown",
   "metadata": {},
   "source": [
    "```\n",
    "echo \"FROM jupyter/datascience-notebook\" > Dockerfile\n",
    "```"
   ]
  },
  {
   "cell_type": "markdown",
   "metadata": {},
   "source": [
    "```\n",
    "docker build -t test_image .\n",
    "```"
   ]
  },
  {
   "cell_type": "markdown",
   "metadata": {},
   "source": [
    "```\n",
    "docker run docker run -w \"$PWD\" -v \"$PWD:$PWD\" -p 8888:8888 -it --rm test_image\n",
    "```"
   ]
  },
  {
   "cell_type": "markdown",
   "metadata": {},
   "source": [
    "How to add stuff to my image?\n",
    "\n",
    "```\n",
    "RUN R -e 'install.packages(\"ggrepel\", repos=\"http://cran.rstudio.com\")'\n",
    "```"
   ]
  }
 ],
 "metadata": {
  "kernelspec": {
   "display_name": "R",
   "language": "R",
   "name": "ir"
  },
  "language_info": {
   "codemirror_mode": "r",
   "file_extension": ".r",
   "mimetype": "text/x-r-source",
   "name": "R",
   "pygments_lexer": "r",
   "version": "3.6.1"
  }
 },
 "nbformat": 4,
 "nbformat_minor": 2
}
