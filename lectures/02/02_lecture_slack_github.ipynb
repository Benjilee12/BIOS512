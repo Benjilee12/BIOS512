{
 "cells": [
  {
   "cell_type": "markdown",
   "metadata": {},
   "source": [
    "# `Slack`\n",
    "\n",
    "https://join.slack.com/t/bios512fall2020/shared_invite/zt-gtf5cxy8-~fy8ex0s~wAAxXEuzf7EhA"
   ]
  },
  {
   "cell_type": "markdown",
   "metadata": {},
   "source": [
    "Tip: change behavior for `Enter`\n",
    "\n",
    "[https://slack.com/help/articles/115005523006-Set-your-Enter-key-preference](https://slack.com/help/articles/115005523006-Set-your-Enter-key-preference)"
   ]
  },
  {
   "cell_type": "markdown",
   "metadata": {},
   "source": [
    "- you can change the theme\n",
    "- you can edit your message\n",
    "- you can send direct messages\n",
    "- you can format messages\n",
    "- links will be \"unfurled\""
   ]
  },
  {
   "cell_type": "markdown",
   "metadata": {},
   "source": [
    "# `GitHub`"
   ]
  },
  {
   "cell_type": "markdown",
   "metadata": {},
   "source": [
    "- add username and email to the `#github-usernames` channel"
   ]
  }
 ],
 "metadata": {
  "kernelspec": {
   "display_name": "Python 3",
   "language": "python",
   "name": "python3"
  },
  "language_info": {
   "codemirror_mode": {
    "name": "ipython",
    "version": 3
   },
   "file_extension": ".py",
   "mimetype": "text/x-python",
   "name": "python",
   "nbconvert_exporter": "python",
   "pygments_lexer": "ipython3",
   "version": "3.8.5"
  }
 },
 "nbformat": 4,
 "nbformat_minor": 4
}
