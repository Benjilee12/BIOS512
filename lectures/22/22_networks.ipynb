{
 "cells": [
  {
   "cell_type": "markdown",
   "metadata": {},
   "source": [
    "# Networks"
   ]
  },
  {
   "cell_type": "markdown",
   "metadata": {},
   "source": [
    "- What is a \"network?\""
   ]
  },
  {
   "cell_type": "markdown",
   "metadata": {},
   "source": [
    "(https://observablehq.com/@d3/force-directed-graph)[https://observablehq.com/@d3/force-directed-graph]"
   ]
  },
  {
   "cell_type": "markdown",
   "metadata": {},
   "source": [
    "- nodes\n",
    "- edges"
   ]
  },
  {
   "cell_type": "code",
   "execution_count": 1,
   "metadata": {},
   "outputs": [
    {
     "name": "stderr",
     "output_type": "stream",
     "text": [
      "Loading required package: ggplot2\n",
      "\n",
      "Attaching package: ‘igraph’\n",
      "\n",
      "The following objects are masked from ‘package:stats’:\n",
      "\n",
      "    decompose, spectrum\n",
      "\n",
      "The following object is masked from ‘package:base’:\n",
      "\n",
      "    union\n",
      "\n",
      "── \u001b[1mAttaching packages\u001b[22m ─────────────────────────────────────── tidyverse 1.2.1 ──\n",
      "\u001b[32m✔\u001b[39m \u001b[34mtibble \u001b[39m 2.1.3     \u001b[32m✔\u001b[39m \u001b[34mpurrr  \u001b[39m 0.3.3\n",
      "\u001b[32m✔\u001b[39m \u001b[34mtidyr  \u001b[39m 1.0.0     \u001b[32m✔\u001b[39m \u001b[34mdplyr  \u001b[39m 0.8.3\n",
      "\u001b[32m✔\u001b[39m \u001b[34mreadr  \u001b[39m 1.3.1     \u001b[32m✔\u001b[39m \u001b[34mstringr\u001b[39m 1.4.0\n",
      "\u001b[32m✔\u001b[39m \u001b[34mtibble \u001b[39m 2.1.3     \u001b[32m✔\u001b[39m \u001b[34mforcats\u001b[39m 0.4.0\n",
      "── \u001b[1mConflicts\u001b[22m ────────────────────────────────────────── tidyverse_conflicts() ──\n",
      "\u001b[31m✖\u001b[39m \u001b[34mdplyr\u001b[39m::\u001b[32mas_data_frame()\u001b[39m masks \u001b[34mtibble\u001b[39m::as_data_frame(), \u001b[34migraph\u001b[39m::as_data_frame()\n",
      "\u001b[31m✖\u001b[39m \u001b[34mpurrr\u001b[39m::\u001b[32mcompose()\u001b[39m       masks \u001b[34migraph\u001b[39m::compose()\n",
      "\u001b[31m✖\u001b[39m \u001b[34mtidyr\u001b[39m::\u001b[32mcrossing()\u001b[39m      masks \u001b[34migraph\u001b[39m::crossing()\n",
      "\u001b[31m✖\u001b[39m \u001b[34mdplyr\u001b[39m::\u001b[32mfilter()\u001b[39m        masks \u001b[34mstats\u001b[39m::filter()\n",
      "\u001b[31m✖\u001b[39m \u001b[34mdplyr\u001b[39m::\u001b[32mgroups()\u001b[39m        masks \u001b[34migraph\u001b[39m::groups()\n",
      "\u001b[31m✖\u001b[39m \u001b[34mdplyr\u001b[39m::\u001b[32mlag()\u001b[39m           masks \u001b[34mstats\u001b[39m::lag()\n",
      "\u001b[31m✖\u001b[39m \u001b[34mpurrr\u001b[39m::\u001b[32msimplify()\u001b[39m      masks \u001b[34migraph\u001b[39m::simplify()\n"
     ]
    }
   ],
   "source": [
    "library('ggraph')\n",
    "library('igraph')\n",
    "library('tidyverse')\n",
    "highschool = highschool %>% as_tibble"
   ]
  },
  {
   "cell_type": "code",
   "execution_count": 2,
   "metadata": {},
   "outputs": [
    {
     "name": "stdout",
     "output_type": "stream",
     "text": [
      "\u001b[38;5;246m# A tibble: 506 x 3\u001b[39m\n",
      "    from    to  year\n",
      "   \u001b[3m\u001b[38;5;246m<dbl>\u001b[39m\u001b[23m \u001b[3m\u001b[38;5;246m<dbl>\u001b[39m\u001b[23m \u001b[3m\u001b[38;5;246m<dbl>\u001b[39m\u001b[23m\n",
      "\u001b[38;5;250m 1\u001b[39m     1    14  \u001b[4m1\u001b[24m957\n",
      "\u001b[38;5;250m 2\u001b[39m     1    15  \u001b[4m1\u001b[24m957\n",
      "\u001b[38;5;250m 3\u001b[39m     1    21  \u001b[4m1\u001b[24m957\n",
      "\u001b[38;5;250m 4\u001b[39m     1    54  \u001b[4m1\u001b[24m957\n",
      "\u001b[38;5;250m 5\u001b[39m     1    55  \u001b[4m1\u001b[24m957\n",
      "\u001b[38;5;250m 6\u001b[39m     2    21  \u001b[4m1\u001b[24m957\n",
      "\u001b[38;5;250m 7\u001b[39m     2    22  \u001b[4m1\u001b[24m957\n",
      "\u001b[38;5;250m 8\u001b[39m     3     9  \u001b[4m1\u001b[24m957\n",
      "\u001b[38;5;250m 9\u001b[39m     3    15  \u001b[4m1\u001b[24m957\n",
      "\u001b[38;5;250m10\u001b[39m     4     5  \u001b[4m1\u001b[24m957\n",
      "\u001b[38;5;246m# … with 496 more rows\u001b[39m\n"
     ]
    }
   ],
   "source": [
    "highschool %>% print"
   ]
  },
  {
   "cell_type": "code",
   "execution_count": 3,
   "metadata": {},
   "outputs": [
    {
     "ename": "ERROR",
     "evalue": "Error: No layout function defined for objects of class function\n",
     "output_type": "error",
     "traceback": [
      "Error: No layout function defined for objects of class function\nTraceback:\n",
      "1. ggraph(graph)",
      "2. ggplot(data = create_layout(graph, layout, ...), environment = envir)",
      "3. create_layout(graph, layout, ...)",
      "4. create_layout.default(graph, layout, ...)",
      "5. tryCatch(as_tbl_graph(graph), error = function(e) {\n .     stop(\"No layout function defined for objects of class \", \n .         class(graph), call. = FALSE)\n . })",
      "6. tryCatchList(expr, classes, parentenv, handlers)",
      "7. tryCatchOne(expr, names, parentenv, handlers[[1L]])",
      "8. value[[3L]](cond)",
      "9. stop(\"No layout function defined for objects of class \", class(graph), \n .     call. = FALSE)"
     ]
    }
   ],
   "source": [
    "options(repr.plot.width = 5, repr.plot.height = 4)\n",
    "# from the ggraph tutorial https://www.data-imaginist.com/2017/ggraph-introduction-layouts/\n",
    "ggraph(graph) + \n",
    "    geom_edge_link(aes(colour = factor(year))) + \n",
    "    geom_node_point()"
   ]
  },
  {
   "cell_type": "markdown",
   "metadata": {},
   "source": [
    "- What are the points?\n",
    "- What are the lines?"
   ]
  },
  {
   "cell_type": "markdown",
   "metadata": {},
   "source": [
    "## Layouts"
   ]
  },
  {
   "cell_type": "code",
   "execution_count": null,
   "metadata": {},
   "outputs": [],
   "source": [
    "ggraph(graph) + \n",
    "    geom_node_point()"
   ]
  },
  {
   "cell_type": "markdown",
   "metadata": {},
   "source": [
    "[https://www.data-imaginist.com/2017/ggraph-introduction-layouts/](https://www.data-imaginist.com/2017/ggraph-introduction-layouts/)"
   ]
  },
  {
   "cell_type": "markdown",
   "metadata": {},
   "source": [
    "## Hierarchies"
   ]
  },
  {
   "cell_type": "markdown",
   "metadata": {},
   "source": [
    "- [https://observablehq.com/@d3/d3-hierarchy?collection=@d3/d3-hierarchy](https://observablehq.com/@d3/d3-hierarchy?collection=@d3/d3-hierarchy)\n",
    "- [https://observablehq.com/@d3/hierarchical-edge-bundling/2?collection=@d3/d3-hierarchy](https://observablehq.com/@d3/hierarchical-edge-bundling/2?collection=@d3/d3-hierarchy)\n",
    "- [https://observablehq.com/@d3/circle-packing-monochrome?collection=@d3/d3-hierarchy](https://observablehq.com/@d3/circle-packing-monochrome?collection=@d3/d3-hierarchy)"
   ]
  },
  {
   "cell_type": "code",
   "execution_count": null,
   "metadata": {},
   "outputs": [],
   "source": [
    "d = dist(iris[, 1:4])\n",
    "d %>% head"
   ]
  },
  {
   "cell_type": "code",
   "execution_count": null,
   "metadata": {},
   "outputs": [],
   "source": [
    "# ?dist"
   ]
  },
  {
   "cell_type": "code",
   "execution_count": null,
   "metadata": {},
   "outputs": [],
   "source": [
    "cl = hclust(d)\n",
    "cl"
   ]
  },
  {
   "cell_type": "code",
   "execution_count": null,
   "metadata": {},
   "outputs": [],
   "source": [
    "# ?hclust"
   ]
  },
  {
   "cell_type": "code",
   "execution_count": null,
   "metadata": {},
   "outputs": [],
   "source": [
    "library('tidygraph')"
   ]
  },
  {
   "cell_type": "code",
   "execution_count": null,
   "metadata": {},
   "outputs": [],
   "source": [
    "iris_tree = as_tbl_graph(cl)\n",
    "iris_tree"
   ]
  },
  {
   "cell_type": "code",
   "execution_count": null,
   "metadata": {},
   "outputs": [],
   "source": [
    "ggraph(iris_tree, 'dendrogram') + \n",
    "    geom_edge_diagonal()"
   ]
  },
  {
   "cell_type": "code",
   "execution_count": null,
   "metadata": {},
   "outputs": [],
   "source": [
    "iris_tree %>% print"
   ]
  }
 ],
 "metadata": {
  "kernelspec": {
   "display_name": "R",
   "language": "R",
   "name": "ir"
  },
  "language_info": {
   "codemirror_mode": "r",
   "file_extension": ".r",
   "mimetype": "text/x-r-source",
   "name": "R",
   "pygments_lexer": "r",
   "version": "3.6.1"
  }
 },
 "nbformat": 4,
 "nbformat_minor": 2
}
